{
 "cells": [
  {
   "cell_type": "code",
   "execution_count": 239,
   "metadata": {},
   "outputs": [],
   "source": [
    "import pandas as pd"
   ]
  },
  {
   "cell_type": "code",
   "execution_count": 240,
   "metadata": {},
   "outputs": [
    {
     "name": "stdout",
     "output_type": "stream",
     "text": [
      "   Area Code     Area  Item Code         Item  Element Code  \\\n",
      "0          4  Algeria       2501   Population           511   \n",
      "1          4  Algeria       2501   Population          5301   \n",
      "2          4  Algeria       2901  Grand Total           664   \n",
      "3          4  Algeria       2901  Grand Total           674   \n",
      "4          4  Algeria       2901  Grand Total           684   \n",
      "\n",
      "                                  Element             Unit     Y2014  \\\n",
      "0           Total Population - Both sexes     1000 persons  38924.00   \n",
      "1                Domestic supply quantity      1000 tonnes      0.00   \n",
      "2           Food supply (kcal/capita/day)  kcal/capita/day   3377.00   \n",
      "3  Protein supply quantity (g/capita/day)     g/capita/day     94.90   \n",
      "4      Fat supply quantity (g/capita/day)     g/capita/day     80.06   \n",
      "\n",
      "      Y2015     Y2016     Y2017     Y2018  \n",
      "0  39728.00  40551.00  41389.00  42228.00  \n",
      "1      0.00      0.00      0.00      0.00  \n",
      "2   3379.00   3372.00   3341.00   3322.00  \n",
      "3     94.35     94.72     92.82     91.83  \n",
      "4     79.36     77.40     80.19     77.28  \n"
     ]
    }
   ],
   "source": [
    "food_balance_link = 'https://raw.githubusercontent.com/ooseni/Hamoye-Datasets/main/FoodBalanceSheets_E_Africa_NOFLAG%20(2).csv'\n",
    "# food_balance_csv = 'FoodBalanceSheets_E_Africa_NOFLAG.csv'\n",
    "food_balance = pd.read_csv(food_balance_link, encoding='latin-1')\n",
    "print(food_balance.head())"
   ]
  },
  {
   "cell_type": "code",
   "execution_count": 241,
   "metadata": {},
   "outputs": [
    {
     "name": "stdout",
     "output_type": "stream",
     "text": [
      "Y2014    209460.54\n",
      "Y2017    269617.53\n",
      "Name: Animal fats, dtype: float64\n"
     ]
    }
   ],
   "source": [
    "total_animal_fat = food_balance.groupby(['Item']).sum().loc['Animal fats', ['Y2014', 'Y2017']]\n",
    "print(total_animal_fat)"
   ]
  },
  {
   "cell_type": "code",
   "execution_count": 242,
   "metadata": {},
   "outputs": [
    {
     "name": "stdout",
     "output_type": "stream",
     "text": [
      "count     59395.000000\n",
      "mean        135.235966\n",
      "std        1603.403984\n",
      "min       -3161.000000\n",
      "25%           0.000000\n",
      "50%           0.080000\n",
      "75%           8.460000\n",
      "max      181137.000000\n",
      "Name: Y2015, dtype: float64\n"
     ]
    }
   ],
   "source": [
    "print(food_balance['Y2015'].describe())"
   ]
  },
  {
   "cell_type": "code",
   "execution_count": 243,
   "metadata": {},
   "outputs": [
    {
     "name": "stdout",
     "output_type": "stream",
     "text": [
      "1535\n",
      "2.52\n"
     ]
    }
   ],
   "source": [
    "Y2016_isna = food_balance['Y2016'].isna().sum()\n",
    "print(Y2016_isna)\n",
    "percentage_Y2016_isna = 100 * Y2016_isna / food_balance.shape[0]\n",
    "print('{0:.2f}'.format(percentage_Y2016_isna))"
   ]
  },
  {
   "cell_type": "code",
   "execution_count": 251,
   "metadata": {},
   "outputs": [
    {
     "name": "stdout",
     "output_type": "stream",
     "text": [
      "              Element Code     Y2014     Y2015     Y2016     Y2017     Y2018\n",
      "Element Code      1.000000  0.024457  0.023889  0.023444  0.024254  0.024279\n",
      "Y2014             0.024457  1.000000  0.994647  0.996081  0.995230  0.994872\n",
      "Y2015             0.023889  0.994647  1.000000  0.995739  0.988048  0.988208\n",
      "Y2016             0.023444  0.996081  0.995739  1.000000  0.992785  0.992757\n",
      "Y2017             0.024254  0.995230  0.988048  0.992785  1.000000  0.998103\n",
      "Y2018             0.024279  0.994872  0.988208  0.992757  0.998103  1.000000\n"
     ]
    }
   ],
   "source": [
    "columns = ['Element Code', 'Y2014', 'Y2015', 'Y2016', 'Y2017', 'Y2018']\n",
    "sub_food_balance = food_balance[columns]\n",
    "print(sub_food_balance.corr())"
   ]
  },
  {
   "cell_type": "code",
   "execution_count": 245,
   "metadata": {},
   "outputs": [
    {
     "name": "stdout",
     "output_type": "stream",
     "text": [
      "                      Y2014       Y2015       Y2016       Y2017       Y2018\n",
      "Element                                                                    \n",
      "Production       1931287.75  1947019.39  1943537.15  2030056.89  2075072.89\n",
      "Import Quantity   274144.48   267018.46   286582.78   294559.09   287997.09\n"
     ]
    }
   ],
   "source": [
    "import_quantity_and_production = food_balance.groupby(['Element']).sum().loc[['Production', 'Import Quantity'], 'Y2014': 'Y2018']\n",
    "print(import_quantity_and_production)"
   ]
  },
  {
   "cell_type": "code",
   "execution_count": 246,
   "metadata": {},
   "outputs": [
    {
     "name": "stdout",
     "output_type": "stream",
     "text": [
      "Element\n",
      "Domestic supply quantity               2161192.10\n",
      "Food supply (kcal/capita/day)           455261.00\n",
      "Import Quantity                         287997.09\n",
      "Food supply quantity (kg/capita/yr)      49056.85\n",
      "Name: Y2018, dtype: float64\n"
     ]
    }
   ],
   "source": [
    "# print(food_balance.Element.unique())\n",
    "grouped_elements_2018 = food_balance.groupby(['Element']).sum().loc[['Food supply (kcal/capita/day)', 'Food supply quantity (kg/capita/yr)', 'Domestic supply quantity', 'Import Quantity'], 'Y2018'].sort_values(ascending=False)\n",
    "print(grouped_elements_2018)"
   ]
  },
  {
   "cell_type": "code",
   "execution_count": 247,
   "metadata": {},
   "outputs": [
    {
     "name": "stdout",
     "output_type": "stream",
     "text": [
      "Element\n",
      "Fat supply quantity (g/capita/day)         10258.69\n",
      "Protein supply quantity (g/capita/day)     11833.56\n",
      "Seed                                       25263.14\n",
      "Food supply quantity (kg/capita/yr)        49056.85\n",
      "Food supply (kcal/capita/day)             455261.00\n",
      "Name: Y2018, dtype: float64\n"
     ]
    }
   ],
   "source": [
    "sorted_grouped_elements_2018 = food_balance.groupby(['Element']).sum().loc[['Food supply quantity (kg/capita/yr)', 'Fat supply quantity (g/capita/day)', 'Seed', 'Food supply (kcal/capita/day)', 'Protein supply quantity (g/capita/day)'], 'Y2018'].sort_values()\n",
    "print(sorted_grouped_elements_2018)"
   ]
  },
  {
   "cell_type": "code",
   "execution_count": 248,
   "metadata": {},
   "outputs": [
    {
     "name": "stdout",
     "output_type": "stream",
     "text": [
      "Area\n",
      "Algeria    36238.29\n",
      "Name: Y2018, dtype: float64\n"
     ]
    }
   ],
   "source": [
    "import_quantity = food_balance.groupby(['Element', 'Area']).sum().loc['Import Quantity', 'Y2018']\n",
    "algeria_import_quantity = import_quantity[import_quantity.index == 'Algeria']\n",
    "print(algeria_import_quantity)"
   ]
  },
  {
   "cell_type": "code",
   "execution_count": 249,
   "metadata": {},
   "outputs": [
    {
     "name": "stdout",
     "output_type": "stream",
     "text": [
      "49\n"
     ]
    }
   ],
   "source": [
    "number_of_countries = len(food_balance.Area.unique())\n",
    "print(number_of_countries)"
   ]
  }
 ],
 "metadata": {
  "interpreter": {
   "hash": "6d46af94c2bbce495f1e668725902fa517c90b1782bcfe2fce0dd9868df553d3"
  },
  "kernelspec": {
   "display_name": "Python 3.9.7 64-bit ('base': conda)",
   "language": "python",
   "name": "python3"
  },
  "language_info": {
   "codemirror_mode": {
    "name": "ipython",
    "version": 3
   },
   "file_extension": ".py",
   "mimetype": "text/x-python",
   "name": "python",
   "nbconvert_exporter": "python",
   "pygments_lexer": "ipython3",
   "version": "3.9.7"
  },
  "orig_nbformat": 4
 },
 "nbformat": 4,
 "nbformat_minor": 2
}
